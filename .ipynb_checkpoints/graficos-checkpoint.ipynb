{
 "cells": [
  {
   "cell_type": "code",
   "execution_count": null,
   "metadata": {},
   "outputs": [
    {
     "ename": "",
     "evalue": "",
     "output_type": "error",
     "traceback": [
      "\u001b[1;31mRunning cells with 'Python 3.6.13 ('amb2')' requires ipykernel package.\n",
      "Run the following command to install 'ipykernel' into the Python environment. \n",
      "Command: 'conda install -n amb2 ipykernel --update-deps --force-reinstall'"
     ]
    }
   ],
   "source": [
    "Bzip_contInTlb = []\n",
    "Bzip_taxasAcerto = []\n",
    "Bzip_contNewTlb = []\n",
    "Bzip_taxasAdd = []\n",
    "Bzip_contSubTlb = []\n",
    "Bzip_taxasSub = []\n",
    "Gcc_contInTlb = []\n",
    "Gcc_taxasAcerto = []\n",
    "Gcc_contNewTlb = []\n",
    "Gcc_taxasAdd = []\n",
    "Gcc_contSubTlb = []\n",
    "Gcc_taxasSub = []\n",
    "Bigone_contInTlb = []\n",
    "Bigone_taxasAcerto = []\n",
    "Bigone_contNewTlb = []\n",
    "Bigone_taxasAdd = []\n",
    "Bigone_contSubTlb = []\n",
    "Bigone_taxasSub = []\n",
    "Swim_contInTlb = []\n",
    "Swim_taxasAcerto = []\n",
    "Swim_contNewTlb = []\n",
    "Swim_taxasAdd = []\n",
    "Swim_contSubTlb = []\n",
    "Swim_taxasSub = []\n",
    "Sixpack_contInTlb = []\n",
    "Sixpack_taxasAcerto = []\n",
    "Sixpack_contNewTlb = []\n",
    "Sixpack_taxasAdd = []\n",
    "Sixpack_contSubTlb = []\n",
    "Sixpack_taxasSub = []"
   ]
  },
  {
   "cell_type": "code",
   "execution_count": 7,
   "metadata": {},
   "outputs": [
    {
     "name": "stdout",
     "output_type": "stream",
     "text": [
      "[2239555] [0.55988875] [2] [5e-07] [1760443] [0.44011075]\n",
      "[2797220] [0.699305] [4] [1e-06] [1202776] [0.300694]\n",
      "[3185743] [0.79643575] [8] [2e-06] [814249] [0.20356225]\n",
      "[3503264] [0.875816] [16] [4e-06] [496720] [0.12418]\n",
      "[3732531] [0.93313275] [32] [8e-06] [267437] [0.06685925]\n",
      "[3849493] [0.96237325] [64] [1.6e-05] [150443] [0.03761075]\n",
      "[3905285] [0.97632125] [128] [3.2e-05] [94587] [0.02364675]\n",
      "[3943807] [0.98595175] [256] [6.4e-05] [55937] [0.01398425]\n"
     ]
    }
   ],
   "source": [
    "def simulador(tamanho):\n",
    "    # arquivos = ['bigone', 'bzip', 'gcc', 'sixpack', 'swim']\n",
    "    arquivos = ['bigone']\n",
    "    tlb = []\n",
    "    #variaveis que retornam todos os valores calculados dai\n",
    "    taxasAcerto = []\n",
    "    taxasAdd = []\n",
    "    taxasSub = []\n",
    "    contInTlb = []\n",
    "    contNewTlb = []\n",
    "    contSubTlb = []\n",
    "\n",
    "    for arquivo in arquivos:\n",
    "\n",
    "        inTlb = 0 #ja esta na tlb\n",
    "        newTlb = 0 #nao esta na tlb, e acrescenta na tlb\n",
    "        subTlb = 0 #substitui um valor ja escrito\n",
    "\n",
    "        file = open('Arquivos/'+arquivo+'.trace', 'r')\n",
    "\n",
    "        linhas = file.readlines()\n",
    "\n",
    "        for linha in linhas:\n",
    "            endereco = linha[:5] #pega os 5 primeiros números, referentes ao endereço\n",
    "\n",
    "            #verifica se o endereço já se encontra na TLB\n",
    "            if(endereco in tlb):\n",
    "                inTlb += 1\n",
    "            #verifica se existe espaço livre na TLB e adiciona o endereço ao final\n",
    "            elif(len(tlb) < tamanho):\n",
    "                newTlb += 1\n",
    "                tlb.append(endereco)\n",
    "            #elimina o endereço da primeira posição da TLB para liberar espaço (FIFO)\n",
    "            #adiciona o endereço atual ao final da TLB\n",
    "            else:\n",
    "                subTlb += 1\n",
    "                tlb.pop(0)\n",
    "                tlb.append(endereco)\n",
    "        \n",
    "        taxaAcerto = inTlb / len(linhas) \n",
    "        taxasAcerto.append(taxaAcerto)\n",
    "        contInTlb.append(inTlb)\n",
    "        \n",
    "        taxaAdd = newTlb / len(linhas) #taxa de adições à TLB com espaço livre\n",
    "        taxasAdd.append(taxaAdd)\n",
    "        contNewTlb.append(newTlb)\n",
    "        \n",
    "        taxaSub = subTlb / len(linhas) #taxa de substituições na TLB\n",
    "        taxasSub.append(taxaSub)\n",
    "        contSubTlb.append(subTlb)\n",
    "\n",
    "    file.close()\n",
    "    return contInTlb, taxasAcerto, contNewTlb, taxasAdd, contSubTlb, taxasSub\n",
    "    \n",
    "\n",
    "if __name__ == \"__main__\":\n",
    "    tm = 150\n",
    "    tTlb = 60\n",
    "    tmac = [] #tempo médio de acesso\n",
    "\n",
    "    for i in range(1,13):\n",
    "        \n",
    "        tam = pow(2,i)\n",
    "        # print(tam)\n",
    "\n",
    "        contInTlb, taxasAcerto, contNewTlb, taxasAdd, contSubTlb, taxasSub = simulador(tam)\n",
    "        print(contInTlb, taxasAcerto, contNewTlb, taxasAdd, contSubTlb, taxasSub)\n",
    "        Bigone_contInTlb.append(contInTlb[0])\n",
    "        Bigone_taxasAcerto.append(taxasAcerto[0])\n",
    "        Bigone_contNewTlb.append(contNewTlb[0])\n",
    "        Bigone_taxasAdd.append(taxasAdd[0])\n",
    "        Bigone_contSubTlb.append(contSubTlb[0])\n",
    "        Bigone_taxasSub.append(taxasSub[0])\n",
    "\n",
    "        for i in taxasAcerto:\n",
    "            time = i * (tTlb+tm) + (1 - i) * (tTlb + 2 * tm)\n",
    "            tmac.append(time)\n",
    "\n",
    "        # print(\"tamanho: \", tam)\n",
    "        # print(\"tmac: \", tmac)\n",
    "        # tmac = alfa(Ttlb+Tm)+(1 - alfa)(Ttlb + 2 * Tm),onde:\n",
    "        # taxasAcerto[i] = taxa de acerto da tlb\n",
    "        # tTlb = tempo de acesso à tlb\n",
    "        # tm = tempo médio\n",
    "    print(Bzip_contInTlb,Bzip_taxasAcerto, Bzip_contNewTlb,Bzip_taxasAdd,Bzip_contSubTlb,Bzip_taxasSub)    \n",
    "    tamanho = [2,4,8,16,32,64,128,256,512,1024,2048,4096]\n",
    "    # print(contNewTlb)\n",
    "    # plt.plot(tamanho,np.array(contInTlb))\n",
    "    # plt.show()\n",
    "    # grafico(contInTlb, tamanho)"
   ]
  },
  {
   "cell_type": "code",
   "execution_count": 6,
   "metadata": {},
   "outputs": [
    {
     "name": "stdout",
     "output_type": "stream",
     "text": [
      "[[999683], [771162], [871399], [952172], [996180], [997503], [998533], [999109], [999489], [999683], [999683], [999683], [999683]] [[0.999683], [0.771162], [0.871399], [0.952172], [0.99618], [0.997503], [0.998533], [0.999109], [0.999489], [0.999683], [0.999683], [0.999683], [0.999683]] [[317], [2], [4], [8], [16], [32], [64], [128], [256], [317], [317], [317], [317]] [[0.000317], [2e-06], [4e-06], [8e-06], [1.6e-05], [3.2e-05], [6.4e-05], [0.000128], [0.000256], [0.000317], [0.000317], [0.000317], [0.000317]] [[0], [228836], [128597], [47820], [3804], [2465], [1403], [763], [255], [0], [0], [0], [0]] [[0.0], [0.228836], [0.128597], [0.04782], [0.003804], [0.002465], [0.001403], [0.000763], [0.000255], [0.0], [0.0], [0.0], [0.0]]\n"
     ]
    }
   ],
   "source": [
    "\n",
    "\n",
    "print(Bzip_contInTlb,Bzip_taxasAcerto, Bzip_contNewTlb,Bzip_taxasAdd,Bzip_contSubTlb,Bzip_taxasSub)"
   ]
  }
 ],
 "metadata": {
  "interpreter": {
   "hash": "f8675bac4d7c47efec3eb3e8dba4d90975b8d22e7f01b8f5d363032a5aa58408"
  },
  "kernelspec": {
   "display_name": "Python 3 (ipykernel)",
   "language": "python",
   "name": "python3"
  },
  "language_info": {
   "codemirror_mode": {
    "name": "ipython",
    "version": 3
   },
   "file_extension": ".py",
   "mimetype": "text/x-python",
   "name": "python",
   "nbconvert_exporter": "python",
   "pygments_lexer": "ipython3",
   "version": "3.7.11"
  }
 },
 "nbformat": 4,
 "nbformat_minor": 2
}
