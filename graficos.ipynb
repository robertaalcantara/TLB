{
 "cells": [
  {
   "cell_type": "code",
   "execution_count": 4,
   "metadata": {},
   "outputs": [],
   "source": [
    "Bzip_contInTlb = []\n",
    "Bzip_taxasAcerto = []\n",
    "Bzip_contNewTlb = []\n",
    "Bzip_taxasAdd = []\n",
    "Bzip_contSubTlb = []\n",
    "Bzip_taxasSub = []\n",
    "Gcc_contInTlb = []\n",
    "Gcc_taxasAcerto = []\n",
    "Gcc_contNewTlb = []\n",
    "Gcc_taxasAdd = []\n",
    "Gcc_contSubTlb = []\n",
    "Gcc_taxasSub = []\n",
    "Bigone_contInTlb = []\n",
    "Bigone_taxasAcerto = []\n",
    "Bigone_contNewTlb = []\n",
    "Bigone_taxasAdd = []\n",
    "Bigone_contSubTlb = []\n",
    "Bigone_taxasSub = []\n",
    "Swim_contInTlb = []\n",
    "Swim_taxasAcerto = []\n",
    "Swim_contNewTlb = []\n",
    "Swim_taxasAdd = []\n",
    "Swim_contSubTlb = []\n",
    "Swim_taxasSub = []\n",
    "Sixpack_contInTlb = []\n",
    "Sixpack_taxasAcerto = []\n",
    "Sixpack_contNewTlb = []\n",
    "Sixpack_taxasAdd = []\n",
    "Sixpack_contSubTlb = []\n",
    "Sixpack_taxasSub = []"
   ]
  },
  {
   "cell_type": "code",
   "execution_count": 13,
   "metadata": {},
   "outputs": [
    {
     "name": "stdout",
     "output_type": "stream",
     "text": [
      "[458542] [0.458542] [2] [2e-06] [541456] [0.541456]\n",
      "[580491] [0.580491] [4] [4e-06] [419505] [0.419505]\n",
      "[669107] [0.669107] [8] [8e-06] [330885] [0.330885]\n",
      "[785705] [0.785705] [16] [1.6e-05] [214279] [0.214279]\n",
      "[918362] [0.918362] [32] [3.2e-05] [81606] [0.081606]\n",
      "[969578] [0.969578] [64] [6.4e-05] [30358] [0.030358]\n",
      "[982477] [0.982477] [128] [0.000128] [17395] [0.017395]\n",
      "[991449] [0.991449] [256] [0.000256] [8295] [0.008295]\n",
      "[995150] [0.99515] [512] [0.000512] [4338] [0.004338]\n",
      "[996736] [0.996736] [1024] [0.001024] [2240] [0.00224]\n",
      "[997202] [0.997202] [2048] [0.002048] [750] [0.00075]\n",
      "[997457] [0.997457] [2543] [0.002543] [0] [0.0]\n",
      "[771162, 871399, 952172, 996180, 997503, 998533, 999109, 999489, 999683, 999683, 999683, 999683] [0.771162, 0.871399, 0.952172, 0.99618, 0.997503, 0.998533, 0.999109, 0.999489, 0.999683, 0.999683, 0.999683, 0.999683] [2, 4, 8, 16, 32, 64, 128, 256, 317, 317, 317, 317] [2e-06, 4e-06, 8e-06, 1.6e-05, 3.2e-05, 6.4e-05, 0.000128, 0.000256, 0.000317, 0.000317, 0.000317, 0.000317] [228836, 128597, 47820, 3804, 2465, 1403, 763, 255, 0, 0, 0, 0] [0.228836, 0.128597, 0.04782, 0.003804, 0.002465, 0.001403, 0.000763, 0.000255, 0.0, 0.0, 0.0, 0.0]\n"
     ]
    }
   ],
   "source": [
    "def simulador(tamanho):\n",
    "    # arquivos = ['bigone', 'bzip', 'gcc', 'sixpack', 'swim']\n",
    "    arquivos = ['swim']\n",
    "    tlb = []\n",
    "    #variaveis que retornam todos os valores calculados dai\n",
    "    taxasAcerto = []\n",
    "    taxasAdd = []\n",
    "    taxasSub = []\n",
    "    contInTlb = []\n",
    "    contNewTlb = []\n",
    "    contSubTlb = []\n",
    "\n",
    "    for arquivo in arquivos:\n",
    "\n",
    "        inTlb = 0 #ja esta na tlb\n",
    "        newTlb = 0 #nao esta na tlb, e acrescenta na tlb\n",
    "        subTlb = 0 #substitui um valor ja escrito\n",
    "\n",
    "        file = open('Arquivos/'+arquivo+'.trace', 'r')\n",
    "\n",
    "        linhas = file.readlines()\n",
    "\n",
    "        for linha in linhas:\n",
    "            endereco = linha[:5] #pega os 5 primeiros números, referentes ao endereço\n",
    "\n",
    "            #verifica se o endereço já se encontra na TLB\n",
    "            if(endereco in tlb):\n",
    "                inTlb += 1\n",
    "            #verifica se existe espaço livre na TLB e adiciona o endereço ao final\n",
    "            elif(len(tlb) < tamanho):\n",
    "                newTlb += 1\n",
    "                tlb.append(endereco)\n",
    "            #elimina o endereço da primeira posição da TLB para liberar espaço (FIFO)\n",
    "            #adiciona o endereço atual ao final da TLB\n",
    "            else:\n",
    "                subTlb += 1\n",
    "                tlb.pop(0)\n",
    "                tlb.append(endereco)\n",
    "        \n",
    "        taxaAcerto = inTlb / len(linhas) \n",
    "        taxasAcerto.append(taxaAcerto)\n",
    "        contInTlb.append(inTlb)\n",
    "        \n",
    "        taxaAdd = newTlb / len(linhas) #taxa de adições à TLB com espaço livre\n",
    "        taxasAdd.append(taxaAdd)\n",
    "        contNewTlb.append(newTlb)\n",
    "        \n",
    "        taxaSub = subTlb / len(linhas) #taxa de substituições na TLB\n",
    "        taxasSub.append(taxaSub)\n",
    "        contSubTlb.append(subTlb)\n",
    "\n",
    "    file.close()\n",
    "    return contInTlb, taxasAcerto, contNewTlb, taxasAdd, contSubTlb, taxasSub\n",
    "    \n",
    "\n",
    "if __name__ == \"__main__\":\n",
    "    tm = 150\n",
    "    tTlb = 60\n",
    "    tmac = [] #tempo médio de acesso\n",
    "\n",
    "    for i in range(1,13):\n",
    "        \n",
    "        tam = pow(2,i)\n",
    "        # print(tam)\n",
    "\n",
    "        contInTlb, taxasAcerto, contNewTlb, taxasAdd, contSubTlb, taxasSub = simulador(tam)\n",
    "        print(contInTlb, taxasAcerto, contNewTlb, taxasAdd, contSubTlb, taxasSub)\n",
    "        Swim_contInTlb.append(contInTlb[0])\n",
    "        Swim_taxasAcerto.append(taxasAcerto[0])\n",
    "        Swim_contNewTlb.append(contNewTlb[0])\n",
    "        Swim_taxasAdd.append(taxasAdd[0])\n",
    "        Swim_contSubTlb.append(contSubTlb[0])\n",
    "        Swim_taxasSub.append(taxasSub[0])\n",
    "\n",
    "        for i in taxasAcerto:\n",
    "            time = i * (tTlb+tm) + (1 - i) * (tTlb + 2 * tm)\n",
    "            tmac.append(time)\n",
    "\n",
    "        # print(\"tamanho: \", tam)\n",
    "        # print(\"tmac: \", tmac)\n",
    "        # tmac = alfa(Ttlb+Tm)+(1 - alfa)(Ttlb + 2 * Tm),onde:\n",
    "        # taxasAcerto[i] = taxa de acerto da tlb\n",
    "        # tTlb = tempo de acesso à tlb\n",
    "        # tm = tempo médio\n",
    "    print(Bzip_contInTlb,Bzip_taxasAcerto, Bzip_contNewTlb,Bzip_taxasAdd,Bzip_contSubTlb,Bzip_taxasSub)    \n",
    "    tamanho = [2,4,8,16,32,64,128,256,512,1024,2048,4096]\n",
    "    # print(contNewTlb)\n",
    "    # plt.plot(tamanho,np.array(contInTlb))\n",
    "    # plt.show()\n",
    "    # grafico(contInTlb, tamanho)"
   ]
  },
  {
   "cell_type": "code",
   "execution_count": 14,
   "metadata": {},
   "outputs": [
    {
     "name": "stdout",
     "output_type": "stream",
     "text": [
      "[771162, 871399, 952172, 996180, 997503, 998533, 999109, 999489, 999683, 999683, 999683, 999683] [0.771162, 0.871399, 0.952172, 0.99618, 0.997503, 0.998533, 0.999109, 0.999489, 0.999683, 0.999683, 0.999683, 0.999683] [2, 4, 8, 16, 32, 64, 128, 256, 317, 317, 317, 317] [2e-06, 4e-06, 8e-06, 1.6e-05, 3.2e-05, 6.4e-05, 0.000128, 0.000256, 0.000317, 0.000317, 0.000317, 0.000317] [228836, 128597, 47820, 3804, 2465, 1403, 763, 255, 0, 0, 0, 0] [0.228836, 0.128597, 0.04782, 0.003804, 0.002465, 0.001403, 0.000763, 0.000255, 0.0, 0.0, 0.0, 0.0]\n",
      "[2239555, 2797220, 3185743, 3503264, 3732531, 3849493, 3905285, 3943807, 3971172, 3984347, 3989409, 3991084] [0.55988875, 0.699305, 0.79643575, 0.875816, 0.93313275, 0.96237325, 0.97632125, 0.98595175, 0.992793, 0.99608675, 0.99735225, 0.997771] [2, 4, 8, 16, 32, 64, 128, 256, 512, 1024, 2048, 4096] [5e-07, 1e-06, 2e-06, 4e-06, 8e-06, 1.6e-05, 3.2e-05, 6.4e-05, 0.000128, 0.000256, 0.000512, 0.001024] [1760443, 1202776, 814249, 496720, 267437, 150443, 94587, 55937, 28316, 14629, 8543, 4820] [0.44011075, 0.300694, 0.20356225, 0.12418, 0.06685925, 0.03761075, 0.02364675, 0.01398425, 0.007079, 0.00365725, 0.00213575, 0.001205]\n",
      "[539088, 697140, 794632, 861461, 901933, 929685, 951474, 968302, 984391, 993327, 996568, 997148] [0.539088, 0.69714, 0.794632, 0.861461, 0.901933, 0.929685, 0.951474, 0.968302, 0.984391, 0.993327, 0.996568, 0.997148] [2, 4, 8, 16, 32, 64, 128, 256, 512, 1024, 2048, 2852] [2e-06, 4e-06, 8e-06, 1.6e-05, 3.2e-05, 6.4e-05, 0.000128, 0.000256, 0.000512, 0.001024, 0.002048, 0.002852] [460910, 302856, 205360, 138523, 98035, 70251, 48398, 31442, 15097, 5649, 1384, 0] [0.46091, 0.302856, 0.20536, 0.138523, 0.098035, 0.070251, 0.048398, 0.031442, 0.015097, 0.005649, 0.001384, 0.0]\n",
      "[470763, 648190, 769832, 859917, 914717, 951699, 972222, 984560, 991911, 994508, 995686, 996110] [0.470763, 0.64819, 0.769832, 0.859917, 0.914717, 0.951699, 0.972222, 0.98456, 0.991911, 0.994508, 0.995686, 0.99611] [2, 4, 8, 16, 32, 64, 128, 256, 512, 1024, 2048, 3890] [2e-06, 4e-06, 8e-06, 1.6e-05, 3.2e-05, 6.4e-05, 0.000128, 0.000256, 0.000512, 0.001024, 0.002048, 0.00389] [529235, 351806, 230160, 140067, 85251, 48237, 27650, 15184, 7577, 4468, 2266, 0] [0.529235, 0.351806, 0.23016, 0.140067, 0.085251, 0.048237, 0.02765, 0.015184, 0.007577, 0.004468, 0.002266, 0.0]\n",
      "[458542, 580491, 669107, 785705, 918362, 969578, 982477, 991449, 995150, 996736, 997202, 997457] [0.458542, 0.580491, 0.669107, 0.785705, 0.918362, 0.969578, 0.982477, 0.991449, 0.99515, 0.996736, 0.997202, 0.997457] [2, 4, 8, 16, 32, 64, 128, 256, 512, 1024, 2048, 2543] [2e-06, 4e-06, 8e-06, 1.6e-05, 3.2e-05, 6.4e-05, 0.000128, 0.000256, 0.000512, 0.001024, 0.002048, 0.002543] [541456, 419505, 330885, 214279, 81606, 30358, 17395, 8295, 4338, 2240, 750, 0] [0.541456, 0.419505, 0.330885, 0.214279, 0.081606, 0.030358, 0.017395, 0.008295, 0.004338, 0.00224, 0.00075, 0.0]\n"
     ]
    }
   ],
   "source": [
    "\n",
    "\n",
    "print(Bzip_contInTlb,Bzip_taxasAcerto, Bzip_contNewTlb,Bzip_taxasAdd,Bzip_contSubTlb,Bzip_taxasSub)\n",
    "print(Bigone_contInTlb,Bigone_taxasAcerto, Bigone_contNewTlb,Bigone_taxasAdd,Bigone_contSubTlb,Bigone_taxasSub)\n",
    "print(Gcc_contInTlb,Gcc_taxasAcerto, Gcc_contNewTlb,Gcc_taxasAdd,Gcc_contSubTlb,Gcc_taxasSub)\n",
    "print(Sixpack_contInTlb,Sixpack_taxasAcerto, Sixpack_contNewTlb,Sixpack_taxasAdd,Sixpack_contSubTlb,Sixpack_taxasSub)\n",
    "print(Swim_contInTlb,Swim_taxasAcerto, Swim_contNewTlb,Swim_taxasAdd,Swim_contSubTlb,Swim_taxasSub)"
   ]
  },
  {
   "cell_type": "code",
   "execution_count": 23,
   "metadata": {},
   "outputs": [
    {
     "name": "stderr",
     "output_type": "stream",
     "text": [
      "C:\\Users\\leona\\anaconda3\\lib\\site-packages\\ipykernel_launcher.py:8: MatplotlibDeprecationWarning: The 'basex' parameter of __init__() has been renamed 'base' since Matplotlib 3.3; support for the old name will be dropped two minor releases later.\n",
      "  \n"
     ]
    },
    {
     "data": {
      "image/png": "[encoded data removed]",
      "text/plain": [
       "<Figure size 432x288 with 1 Axes>"
      ]
     },
     "metadata": {
      "needs_background": "light"
     },
     "output_type": "display_data"
    }
   ],
   "source": [
    "tamanho = [2,4,8,16,32,64,128,256,512,1024,2048,4096]\n",
    "plt.plot(tamanho,Bigone_taxasAcerto, label = 'Bigone')\n",
    "plt.plot(tamanho,Bzip_taxasAcerto, label = 'Bzip')\n",
    "plt.plot(tamanho,Gcc_taxasAcerto, label = 'Gcc')\n",
    "plt.plot(tamanho,Sixpack_taxasAcerto, label = 'Sixpack')\n",
    "plt.plot(tamanho,Swim_taxasAcerto, label = 'Swim')\n",
    "plt.legend()\n",
    "plt.xscale(\"log\", basex=2)"
   ]
  }
 ],
 "metadata": {
  "interpreter": {
   "hash": "f8675bac4d7c47efec3eb3e8dba4d90975b8d22e7f01b8f5d363032a5aa58408"
  },
  "kernelspec": {
   "display_name": "Python 3.8.8 ('amb1')",
   "language": "python",
   "name": "python3"
  },
  "language_info": {
   "codemirror_mode": {
    "name": "ipython",
    "version": 3
   },
   "file_extension": ".py",
   "mimetype": "text/x-python",
   "name": "python",
   "nbconvert_exporter": "python",
   "pygments_lexer": "ipython3",
   "version": "3.7.11"
  },
  "orig_nbformat": 4
 },
 "nbformat": 4,
 "nbformat_minor": 2
}
